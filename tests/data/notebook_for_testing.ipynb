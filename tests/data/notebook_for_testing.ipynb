{
 "cells": [
  {
   "cell_type": "code",
   "execution_count": 1,
   "metadata": {},
   "outputs": [],
   "source": [
    "import os\n",
    "\n",
    "import glob\n",
    "\n",
    "import nbqa"
   ]
  },
  {
   "cell_type": "markdown",
   "metadata": {},
   "source": [
    "# Some markdown cell containing \\n"
   ]
  },
  {
   "cell_type": "code",
   "execution_count": 2,
   "metadata": {},
   "outputs": [
    {
     "name": "stdout",
     "output_type": "stream",
     "text": [
      "CPU times: user 9 µs, sys: 6 µs, total: 15 µs\n",
      "Wall time: 17.9 µs\n"
     ]
    },
    {
     "data": {
      "text/plain": [
       "'hello 3'"
      ]
     },
     "execution_count": 2,
     "metadata": {},
     "output_type": "execute_result"
    }
   ],
   "source": [
    "%%time\n",
    "def hello(name: str = \"world\\n\"):\n",
    "    \"\"\"\n",
    "    Greet user.\n",
    "\n",
    "    Examples\n",
    "    --------\n",
    "    >>> hello()\n",
    "    'hello world\\\\n'\n",
    "\n",
    "    >>> hello(\"goodbye\")\n",
    "    'hello goodbye'\n",
    "    \"\"\"\n",
    "\n",
    "    return f'hello {name}'\n",
    "\n",
    "\n",
    "!ls\n",
    "hello(3)   "
   ]
  },
  {
   "cell_type": "code",
   "execution_count": 2,
   "metadata": {},
   "outputs": [
    {
     "name": "stdout",
     "output_type": "stream",
     "text": [
      "/home/marco/nbQA-dev/tests/data\n"
     ]
    }
   ],
   "source": [
    "    %%bash\n",
    "\n",
    "        pwd"
   ]
  },
  {
   "cell_type": "code",
   "execution_count": null,
   "metadata": {},
   "outputs": [],
   "source": []
  }
 ],
 "metadata": {
  "anaconda-cloud": {},
  "kernelspec": {
   "display_name": "Python 3",
   "language": "python",
   "name": "python3"
  },
  "language_info": {
   "codemirror_mode": {
    "name": "ipython",
    "version": 3
   },
   "file_extension": ".py",
   "mimetype": "text/x-python",
   "name": "python",
   "nbconvert_exporter": "python",
   "pygments_lexer": "ipython3",
   "version": "3.7.7"
  }
 },
 "nbformat": 4,
 "nbformat_minor": 4
}
