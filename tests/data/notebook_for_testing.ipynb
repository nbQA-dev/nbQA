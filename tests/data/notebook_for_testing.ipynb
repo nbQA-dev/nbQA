{
 "cells": [
  {
   "cell_type": "code",
   "execution_count": null,
   "metadata": {
    "tags": [
     "skip-flake8"
    ]
   },
   "outputs": [],
   "source": [
    "import os\n",
    "\n",
    "import glob\n",
    "\n",
    "import nbqa"
   ]
  },
  {
   "cell_type": "markdown",
   "metadata": {},
   "source": [
    "# Some markdown cell containing \\\\n"
   ]
  },
  {
   "cell_type": "markdown",
   "metadata": {
    "tags": [
     "skip-mdformat"
    ]
   },
   "source": [
    "First level heading\n",
    "==="
   ]
  },
  {
   "cell_type": "code",
   "execution_count": null,
   "metadata": {
    "tags": [
     "flake8-skip"
    ]
   },
   "outputs": [],
   "source": [
    "%%time foo\n",
    "def hello(name: str = \"world\\n\"):\n",
    "    \"\"\"\n",
    "    Greet user.\n",
    "\n",
    "    Examples\n",
    "    --------\n",
    "    >>> hello()\n",
    "    'hello world\\\\n'\n",
    "\n",
    "    >>> hello(\"goodbye\")\n",
    "    'hello goodbye'\n",
    "    \"\"\"\n",
    "\n",
    "    return 'hello {}'.format(name)\n",
    "\n",
    "\n",
    "!ls\n",
    "hello(3)   "
   ]
  },
  {
   "cell_type": "markdown",
   "metadata": {},
   "source": [
    "```python\n",
    "2 +2\n",
    "```"
   ]
  },
  {
   "cell_type": "code",
   "execution_count": null,
   "metadata": {},
   "outputs": [],
   "source": [
    "    %%bash\n",
    "\n",
    "        pwd"
   ]
  },
  {
   "cell_type": "code",
   "execution_count": null,
   "metadata": {},
   "outputs": [],
   "source": [
    "from random import randint\n",
    "\n",
    "if __debug__:\n",
    "    %time randint(5,10)"
   ]
  },
  {
   "cell_type": "code",
   "execution_count": null,
   "metadata": {},
   "outputs": [],
   "source": [
    "import pprint\n",
    "import sys\n",
    "\n",
    "if __debug__:\n",
    "    pretty_print_object = pprint.PrettyPrinter(\n",
    "        indent=4, width=80, stream=sys.stdout, compact=True, depth=5\n",
    "    )\n",
    "\n",
    "pretty_print_object.isreadable([\"Hello\", \"World\"])"
   ]
  }
 ],
 "metadata": {
  "anaconda-cloud": {},
  "kernelspec": {
   "display_name": "Python 3",
   "language": "python",
   "name": "python3"
  },
  "language_info": {
   "codemirror_mode": {
    "name": "ipython",
    "version": 3
   },
   "file_extension": ".py",
   "mimetype": "text/x-python",
   "name": "python",
   "nbconvert_exporter": "python",
   "pygments_lexer": "ipython3",
   "version": "3.8.5"
  }
 },
 "nbformat": 4,
 "nbformat_minor": 4
}
