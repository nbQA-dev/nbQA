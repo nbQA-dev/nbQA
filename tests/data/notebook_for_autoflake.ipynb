{
 "metadata": {
  "language_info": {
   "codemirror_mode": {
    "name": "ipython",
    "version": 3
   },
   "file_extension": ".py",
   "mimetype": "text/x-python",
   "name": "python",
   "nbconvert_exporter": "python",
   "pygments_lexer": "ipython3",
   "version": "3.8.0-final"
  },
  "orig_nbformat": 2,
  "kernelspec": {
   "name": "python38064bitenv38402d408776534fc5af35f0cc2441a95a",
   "display_name": "Python 3.8.0 64-bit ('env38')"
  }
 },
 "nbformat": 4,
 "nbformat_minor": 2,
 "cells": [
  {
   "source": [
    "# Notebook used for testing autoflake"
   ],
   "cell_type": "markdown",
   "metadata": {}
  },
  {
   "cell_type": "code",
   "execution_count": 1,
   "metadata": {},
   "outputs": [],
   "source": [
    "def say_hello(name: str):\n",
    "    unused_var = \"not used\"\n",
    "    print(\"hello\")"
   ]
  },
  {
   "cell_type": "code",
   "execution_count": 2,
   "metadata": {},
   "outputs": [],
   "source": [
    "# expand wildcard imports\n",
    "from os.path import *\n",
    "\n",
    "pwd_full_path = abspath(\".\")"
   ]
  },
  {
   "cell_type": "code",
   "execution_count": 3,
   "metadata": {},
   "outputs": [],
   "source": [
    "# unused imports\n",
    "import numpy as np\n",
    "import pandas as pd\n",
    "\n",
    "X = 5 * np.random.rand(10, 1)"
   ]
  }
 ]
}
